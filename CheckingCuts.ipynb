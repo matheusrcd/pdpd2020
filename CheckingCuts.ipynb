{
 "cells": [
  {
   "cell_type": "code",
   "execution_count": 8,
   "metadata": {},
   "outputs": [],
   "source": [
    "import pylheV\n",
    "import numpy as np\n",
    "import matplotlib.pyplot as plt\n",
    "import seaborn as sns\n",
    "\n",
    "sns.set() #Set style\n",
    "sns.set_style('ticks',{'font.family':'serif', 'font.serif':'Times New Roman'})\n",
    "sns.set_context('paper', font_scale=1.8)\n",
    "sns.set_palette(sns.color_palette(\"Paired\"))"
   ]
  },
  {
   "cell_type": "code",
   "execution_count": 9,
   "metadata": {},
   "outputs": [],
   "source": [
    "#This function calculates the transverse momentum of a photon.\n",
    "def pTjet(file_name):\n",
    "   \n",
    "    ids = set([])\n",
    "    p_T = []\n",
    "    stop = False\n",
    "    for e in pylheV.readLHE(file_name):        \n",
    "        if stop: break\n",
    "        for ptc in e.particles:\n",
    "            print(ptc.id,ptc.px)\n",
    "            stop=True\n",
    "            if ptc.status < 0: continue\n",
    "            if not abs(ptc.id) in [1,2,3,4,21]: continue\n",
    "        \n",
    "#             if ptc.label in ['s','s~']:\n",
    "#                 print(ptc.label,ptc.pT(),ptc.m)\n",
    "#                 ids.add(ptc.label)\n",
    "#                 print('particle = ',ptc.label,ptc.pT(),ptc.px,ptc.status)\n",
    "#                 print('Event:')\n",
    "#                 for ptc in e.particles:\n",
    "#                     print(ptc.label,ptc.pT(),ptc.px,ptc.status)\n",
    "#                 stop = True   \n",
    "            p_T.append(ptc.pT())\n",
    "\n",
    "    return p_T,ids"
   ]
  },
  {
   "cell_type": "code",
   "execution_count": 10,
   "metadata": {},
   "outputs": [
    {
     "name": "stdout",
     "output_type": "stream",
     "text": [
      "21.0 0.0\n",
      "1.0 -0.0\n",
      "9000005.0 278.23062245\n",
      "9000005.0 -96.236891919\n",
      "1.0 -181.99373053\n",
      "1\n",
      "0\n",
      "set()\n"
     ]
    }
   ],
   "source": [
    "pT,ids = pTjet('unweighted_events.lhe')\n",
    "print(len(pT))\n",
    "print(len(ids))\n",
    "print(ids)"
   ]
  },
  {
   "cell_type": "code",
   "execution_count": 6,
   "metadata": {},
   "outputs": [
    {
     "data": {
      "image/png": "[encoded data removed]",
      "text/plain": [
       "<Figure size 432x288 with 1 Axes>"
      ]
     },
     "metadata": {},
     "output_type": "display_data"
    }
   ],
   "source": [
    "#Plot of the transverse momentum\n",
    "histogram = plt.hist(pT, bins = 40, color = 'purple')\n",
    "plt.title(r'Transverse momentum ($p_t$)')\n",
    "plt.xlabel(r'Transverse momentum (GeV)')\n",
    "plt.ylabel('Frequency')\n",
    "plt.show()"
   ]
  }
 ],
 "metadata": {
  "kernelspec": {
   "display_name": "Python 3",
   "language": "python",
   "name": "python3"
  },
  "language_info": {
   "codemirror_mode": {
    "name": "ipython",
    "version": 3
   },
   "file_extension": ".py",
   "mimetype": "text/x-python",
   "name": "python",
   "nbconvert_exporter": "python",
   "pygments_lexer": "ipython3",
   "version": "3.8.6"
  }
 },
 "nbformat": 4,
 "nbformat_minor": 2
}
