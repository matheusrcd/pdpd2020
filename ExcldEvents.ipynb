{
 "metadata": {
  "language_info": {
   "codemirror_mode": {
    "name": "ipython",
    "version": 3
   },
   "file_extension": ".py",
   "mimetype": "text/x-python",
   "name": "python",
   "nbconvert_exporter": "python",
   "pygments_lexer": "ipython3",
   "version": "3.8.10"
  },
  "orig_nbformat": 4,
  "kernelspec": {
   "name": "python3",
   "display_name": "Python 3.8.10 64-bit"
  },
  "interpreter": {
   "hash": "916dbcbb3f70747c44a77c7bcd40155683ae19c65e1c03b4aa3499c5328201f1"
  }
 },
 "nbformat": 4,
 "nbformat_minor": 2,
 "cells": [
  {
   "cell_type": "code",
   "execution_count": 1,
   "source": [
    "%matplotlib inline\n",
    "import pylhe\n",
    "import matplotlib.pyplot as plt\n",
    "import numpy as np\n",
    "\n",
    "plt.rcParams['figure.figsize'] = [14, 3]\n",
    "\n",
    "# LHE File for \"p p > H  j, H > S S - MS= 55Gev BR = 17% ptj = 500\"\n",
    "lhe_dm55= pylhe.readLHE(\"Events/with_ptj150/run_hss_mdm55_ptj150/unweighted_events.lhe\")\n",
    "nEvents_dm = 100000\n",
    "crssSection_dm = 119.83379466903 #fb\n",
    "\n",
    "# LHE File for \"p p > Z j, Z > vl vl~  n_events = 50 000\"\n",
    "lhe_zj= pylhe.readLHE(\"Events/with_ptj150/run_zj_ptj150/unweighted_events.lhe\")\n",
    "nEvents_zj = 100000\n",
    "crssSection_zj = 27233.953 #fb\n",
    "\n",
    "lumi = 3000 #fb\n",
    "\n",
    "def momenta(particles, transverse=False):\n",
    "    total_momentum = 0\n",
    "    p = [0, 0, 0]\n",
    "    for ptc in particles:\n",
    "        p[0] += ptc.px\n",
    "        p[1] += ptc.py\n",
    "        p[2] += ptc.pz\n",
    "\n",
    "    if transverse == True:\n",
    "        transverse_momentum = np.sqrt(p[0]**2 + p[1]**2)\n",
    "        return transverse_momentum\n",
    "\n",
    "    total_momentum = np.sqrt(p[0]**2 + p[1]**2 + p[2]**2)\n",
    "    return total_momentum\n",
    "\n",
    "def invariant_mass(event, p_ids):\n",
    "    matter = []\n",
    "    e_total = [] \n",
    "    for ptc in event.particles:\n",
    "        if ptc.id in p_ids:\n",
    "            matter.append(ptc)\n",
    "            e_total.append(ptc.e)\n",
    "    return np.sqrt(sum(e_total)**2 - momenta(matter)**2)\n",
    "\n",
    "def transverse_momentum(event, p_ids):\n",
    "    matter = []\n",
    "    for ptc in event.particles:\n",
    "        if ptc.status > 0 and abs(ptc.id) in p_ids:\n",
    "            matter.append(ptc)\n",
    "    return momenta(matter, transverse=True)\n",
    "\n",
    "\n",
    "jet_ids = [1, 2, 3, 4, 5, 6, 21]"
   ],
   "outputs": [],
   "metadata": {}
  },
  {
   "cell_type": "code",
   "execution_count": null,
   "source": [
    "plt.rcParams['figure.figsize'] = [14, 8]\n",
    "\n",
    "weight_dm = [(crssSection_dm/nEvents_dm)*lumi]*nEvents_dm\n",
    "pt_dm = []\n",
    "for event in lhe_dm55:\n",
    "    pt = transverse_momentum(event, jet_ids)\n",
    "    pt_dm.append(pt)\n",
    "\n",
    "weight_zj = [(crssSection_zj/nEvents_zj)*lumi]*nEvents_zj\n",
    "pt_zj = []\n",
    "for event in lhe_zj:\n",
    "    pt = transverse_momentum(event, jet_ids)\n",
    "    pt_zj.append(pt)\n",
    "\n",
    "fig, ax = plt.subplots(1, 1)\n",
    "bins = range(150, 2600, 100)\n",
    "\n",
    "# histogram for \"p p > H  j, H > S S - MS= 55Gev\"\n",
    "ns_ms55, bins_ms55, patches_ms55 = ax.hist(pt_dm, bins = bins, alpha=0.8, color='blue', label='MS = 55GeV', log=True, edgecolor='blue', histtype='step', weights= weight_dm)\n",
    "ns_zj, bins_zj, patches_zj = ax.hist(pt_zj, bins = bins, alpha=0.8, color='orange', label='Z', log=True, edgecolor='orange', histtype='step', weights= weight_zj)\n",
    "ax.set(xlabel='Momentum (GeV)', ylabel='N Events')\n",
    "ax.legend()\n",
    "\n",
    "print(sum(ns_ms55), sum(ns_zj))\n",
    "r = sum(ns_ms55)/(2*np.sqrt((0.05*sum(ns_zj))**2+sum(ns_zj)))\n",
    "print(r)\n",
    "print((2*np.sqrt((0.05*sum(ns_zj))**2+sum(ns_zj))))\n",
    "#PEDIR PRO HIST RETORNAR OS BINS E SOMAR PRA VER SE TA CERTO O Z\n",
    "#colocar luminosidade"
   ],
   "outputs": [],
   "metadata": {}
  },
  {
   "cell_type": "code",
   "execution_count": null,
   "source": [
    "lhe_dm55= pylhe.readLHE(\"Events/with_ptj250/run_hss_mdm55_ptj250/unweighted_events.lhe\")\n",
    "nEvents_dm = 100000\n",
    "crssSection_dm = 30.83369522477 #fb\n",
    "\n",
    "lhe_zj= pylhe.readLHE(\"Events/with_ptj250/run_zl_cut250/unweighted_events.lhe\")\n",
    "nEvents_zj = 100000\n",
    "crssSection_zj = 3887.8891 #fb\n",
    "\n",
    "plt.rcParams['figure.figsize'] = [14, 8]\n",
    "\n",
    "weight_dm = [(crssSection_dm/nEvents_dm)*lumi]*nEvents_dm\n",
    "pt_dm = []\n",
    "for event in lhe_dm55:\n",
    "    pt = transverse_momentum(event, jet_ids)\n",
    "    pt_dm.append(pt)\n",
    "\n",
    "weight_zj = [(crssSection_zj/nEvents_zj)*lumi]*nEvents_zj\n",
    "pt_zj = []\n",
    "for event in lhe_zj:\n",
    "    pt = transverse_momentum(event, jet_ids)\n",
    "    pt_zj.append(pt)\n",
    "\n",
    "fig, ax = plt.subplots(1, 1)\n",
    "bins = range(250, 2600, 100)\n",
    "\n",
    "# histogram for \"p p > H  j, H > S S - MS= 55Gev\"\n",
    "ns_ms55, bins_ms55, patches_ms55 = ax.hist(pt_dm, bins = bins, alpha=0.8, color='blue', label='MS = 55GeV', log=True, edgecolor='blue', histtype='step', weights= weight_dm)\n",
    "ns_zj, bins_zj, patches_zj = ax.hist(pt_zj, bins = bins, alpha=0.8, color='orange', label='Z', log=True, edgecolor='orange', histtype='step', weights= weight_zj)\n",
    "ax.set(xlabel='Momentum (GeV)', ylabel='N Events')\n",
    "ax.legend()\n",
    "\n",
    "print(sum(ns_ms55), sum(ns_zj))\n",
    "r = sum(ns_ms55)/(2*np.sqrt((0.05*sum(ns_zj))**2+sum(ns_zj)))\n",
    "print(r)\n",
    "print((2*np.sqrt((0.05*sum(ns_zj))**2+sum(ns_zj))))\n",
    "#PEDIR PRO HIST RETORNAR OS BINS E SOMAR PRA VER SE TA CERTO O Z\n",
    "#colocar luminosidade"
   ],
   "outputs": [],
   "metadata": {}
  },
  {
   "cell_type": "code",
   "execution_count": 2,
   "source": [
    "lhe_dm55= pylhe.readLHE(\"Events/with_ptj800/run_mdm30/unweighted_events.lhe\")\n",
    "nEvents_dm = 100000\n",
    "crssSection_dm = 0.5685351898420999 #fb\n",
    "\n",
    "lhe_zj= pylhe.readLHE(\"Events/with_ptj800/run_zj_ptj800/unweighted_events.lhe\")\n",
    "nEvents_zj = 100000\n",
    "crssSection_zj = 13.810421 #fb\n",
    "\n",
    "plt.rcParams['figure.figsize'] = [14, 8]\n",
    "\n",
    "weight_dm = [(crssSection_dm/nEvents_dm)*lumi]*nEvents_dm\n",
    "pt_dm = []\n",
    "for event in lhe_dm55:\n",
    "    pt = transverse_momentum(event, jet_ids)\n",
    "    pt_dm.append(pt)\n",
    "\n",
    "weight_zj = [(crssSection_zj/nEvents_zj)*lumi]*nEvents_zj\n",
    "pt_zj = []\n",
    "for event in lhe_zj:\n",
    "    pt = transverse_momentum(event, jet_ids)\n",
    "    pt_zj.append(pt)\n",
    "\n",
    "fig, ax = plt.subplots(1, 1)\n",
    "bins = range(500, 2600, 100)\n",
    "\n",
    "# histogram for \"p p > H  j, H > S S - MS= 55Gev\"\n",
    "ns_ms55, bins_ms55, patches_ms55 = ax.hist(pt_dm, bins = bins, alpha=0.8, color='blue', label='MS = 55GeV', log=True, edgecolor='blue', histtype='step', weights= weight_dm)\n",
    "ns_zj, bins_zj, patches_zj = ax.hist(pt_zj, bins = bins, alpha=0.8, color='orange', label='Z', log=True, edgecolor='orange', histtype='step', weights= weight_zj)\n",
    "ax.set(xlabel='Momentum (GeV)', ylabel='N Events')\n",
    "ax.legend()\n",
    "\n",
    "print(sum(ns_ms55), sum(ns_zj))\n",
    "r = sum(ns_ms55)/(2*np.sqrt((0.05*sum(ns_zj))**2+sum(ns_zj)))\n",
    "print(r)\n",
    "print((2*np.sqrt(((0.05*sum(ns_zj))**2)+sum(ns_zj))))\n",
    "#PEDIR PRO HIST RETORNAR OS BINS E SOMAR PRA VER SE TA CERTO O Z\n",
    "#colocar luminosidade"
   ],
   "outputs": [
    {
     "output_type": "stream",
     "name": "stdout",
     "text": [
      "6650.4670044322265 511639.91999947466\n",
      "0.12993256782602855\n",
      "51183.98809247562\n"
     ]
    },
    {
     "output_type": "display_data",
     "data": {
      "text/plain": [
       "<Figure size 1008x576 with 1 Axes>"
      ],
      "image/png": "[encoded data removed]"
     },
     "metadata": {
      "needs_background": "light"
     }
    }
   ],
   "metadata": {}
  },
  {
   "cell_type": "code",
   "execution_count": 2,
   "source": [
    "lhe_dm55= pylhe.readLHE(\"Events/with_ptj2000/run_hss_mdm55/unweighted_events.lhe\")\n",
    "nEvents_dm = 50000\n",
    "crssSection_dm = 1.4774236344946001e-03 #fb\n",
    "\n",
    "lhe_zj= pylhe.readLHE(\"Events/with_ptj2000/run_zvlvl/unweighted_events.lhe\")\n",
    "nEvents_zj = 50000\n",
    "crssSection_zj = 1.4995641800000001e-02 #fb\n",
    "\n",
    "plt.rcParams['figure.figsize'] = [14, 8]\n",
    "\n",
    "weight_dm = [(crssSection_dm/nEvents_dm)*lumi]*nEvents_dm\n",
    "pt_dm = []\n",
    "for event in lhe_dm55:\n",
    "    pt = transverse_momentum(event, jet_ids)\n",
    "    pt_dm.append(pt)\n",
    "\n",
    "weight_zj = [(crssSection_zj/nEvents_zj)*lumi]*nEvents_zj\n",
    "pt_zj = []\n",
    "for event in lhe_zj:\n",
    "    pt = transverse_momentum(event, jet_ids)\n",
    "    pt_zj.append(pt)\n",
    "\n",
    "fig, ax = plt.subplots(1, 1)\n",
    "bins = range(2000, 3600, 100)\n",
    "\n",
    "# histogram for \"p p > H  j, H > S S - MS= 55Gev\"\n",
    "ns_ms55, bins_ms55, patches_ms55 = ax.hist(pt_dm, bins = bins, alpha=0.8, color='blue', label='MS = 55GeV', log=True, edgecolor='blue', histtype='step', weights= weight_dm)\n",
    "ns_zj, bins_zj, patches_zj = ax.hist(pt_zj, bins = bins, alpha=0.8, color='orange', label='Z', log=True, edgecolor='orange', histtype='step', weights= weight_zj)\n",
    "ax.set(xlabel='Momentum (GeV)', ylabel='N Events')\n",
    "ax.legend()\n",
    "\n",
    "print(sum(ns_ms55), sum(ns_zj))\n",
    "r = sum(ns_ms55)/(2*np.sqrt((0.05*sum(ns_zj))**2+sum(ns_zj)))\n",
    "print(r)\n",
    "print((2*np.sqrt((0.05*sum(ns_zj))**2+sum(ns_zj))))\n",
    "#PEDIR PRO HIST RETORNAR OS BINS E SOMAR PRA VER SE TA CERTO O Z\n",
    "#colocar luminosidade"
   ],
   "outputs": [
    {
     "output_type": "stream",
     "name": "stdout",
     "text": [
      "4.4284591505052955 44.96533167576019\n",
      "0.3130766330992609\n",
      "14.144968618917186\n"
     ]
    },
    {
     "output_type": "display_data",
     "data": {
      "text/plain": [
       "<Figure size 1008x576 with 1 Axes>"
      ],
      "image/png": "[encoded data removed]"
     },
     "metadata": {
      "needs_background": "light"
     }
    }
   ],
   "metadata": {}
  }
 ]
}